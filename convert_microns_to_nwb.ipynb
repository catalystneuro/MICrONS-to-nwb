{
 "cells": [
  {
   "cell_type": "markdown",
   "id": "c8d038a0",
   "metadata": {
    "pycharm": {
     "name": "#%% md\n"
    }
   },
   "source": [
    "# Converting MICrONS to NWB\n",
    "\n",
    "This notebook converts the 2p data from [the MICrONS dataset](https://www.microns-explorer.org/) to NWB.\n",
    "\n",
    "## Setup\n",
    "The notebook needs to be run on https://codebook.datajoint.io/ using the \"IARPA MICrONS Program\" Sever Option\n",
    "\n",
    "\n",
    "## Progress\n",
    "- [x] Eye tracking\n",
    "    - [x] Minor and major radius\n",
    "    - [x] Eye position (x, y)\n",
    "- [x] Treadmill velocity\n",
    "- [x] Trials\n",
    "    - [x] Start and stop times\n",
    "    - [x] Stimulus type\n",
    "    - [x] Condition hash\n",
    "- [x] ROI masks\n",
    "- [x] Fluorescence traces\n",
    "- [x] Summary images\n",
    "- [x] Microscope metadata\n",
    "- [ ] Raw 2p data\n",
    "- [ ] Stimulus movie (need more RAM)\n",
    "- [ ] Mapping to EM data\n",
    "- [ ] Subject and session metadata\n",
    "    - [ ] datetime of session\n",
    "    - [ ] age, sex, and ID of mouse"
   ]
  },
  {
   "cell_type": "code",
   "execution_count": null,
   "id": "47b8db6f-d6dd-4b3d-a31f-dbec70df1ac2",
   "metadata": {
    "pycharm": {
     "name": "#%%\n"
    }
   },
   "outputs": [],
   "source": [
    "!pip install neuroconv[ophys]"
   ]
  },
  {
   "cell_type": "code",
   "execution_count": null,
   "id": "60529a3d-060c-47bd-a1c2-882c0bed0667",
   "metadata": {
    "pycharm": {
     "name": "#%%\n"
    }
   },
   "outputs": [],
   "source": [
    "from datetime import datetime\n",
    "from dateutil import tz\n",
    "\n",
    "import datajoint as dj\n",
    "from phase3 import nda, func, utils\n",
    "\n",
    "from neuroconv.tools.nwb_helpers import (\n",
    "    get_module,\n",
    "    make_or_load_nwbfile,\n",
    "    get_default_nwbfile_metadata,\n",
    ")\n",
    "from neuroconv.tools.roiextractors import (\n",
    "    add_image_segmentation,\n",
    "    add_imaging_plane,\n",
    ")\n",
    "\n",
    "from pynwb.file import Subject\n",
    "from pynwb.ophys import RoiResponseSeries, Fluorescence\n",
    "from pynwb.image import OpticalSeries, GrayscaleImage\n",
    "from hdmf.backends.hdf5.h5tools import H5DataIO\n",
    "from pynwb.behavior import PupilTracking, EyeTracking, SpatialSeries\n",
    "from pynwb.base import TimeSeries, Images\n",
    "import numpy as np\n",
    "from datetime import datetime\n",
    "\n",
    "def get_default_subject():\n",
    "    return Subject(subject_id=\"001\", species=\"Mus musculus\", age=\"P75D/P81D\", sex=\"M\")\n",
    "\n",
    "def get_ophys_metadata(scan_key, metadata: dict):\n",
    "    device_metadata = dict(\n",
    "        name=\"Microscope\",\n",
    "        description=\"two-photon random access mesoscope\",\n",
    "    )\n",
    "    optical_channel_metadata = dict(\n",
    "        name=\"OpticalChannel\",\n",
    "        emission_lambda=500.,\n",
    "        description=\"An optical channel.\",\n",
    "    )\n",
    "\n",
    "    all_field_data = (nda.Field & scan_key).fetch(as_dict=True)\n",
    "\n",
    "    imaging_planes = []\n",
    "    for field_data in all_field_data:\n",
    "        imaging_plane_metadata = dict(\n",
    "            name=f\"ImagingPlane{field_data['field']}\",\n",
    "            description=\"The plane or volume being imaged by the microscope.\",\n",
    "            excitation_lambda=920.,\n",
    "            indicator=\"GCaMP6\",\n",
    "            location=\"unknown\",\n",
    "            device=device_metadata[\"name\"],\n",
    "            optical_channel=[optical_channel_metadata],\n",
    "            grid_spacing=[field_data[\"um_width\"]/field_data[\"px_width\"]*1e-6, field_data[\"um_height\"]/field_data[\"px_height\"]] ,\n",
    "            grid_spacing_unit=\"meters\",\n",
    "            origin_coords=[field_data[\"field_x\"], field_data[\"field_y\"], field_data[\"field_z\"]],\n",
    "            origin_coords_unit=\"meters\",\n",
    "        )\n",
    "        imaging_planes.append(imaging_plane_metadata)\n",
    "\n",
    "    metadata.update(Ophys=dict(Device=[device_metadata], ImagingPlane=imaging_planes,))\n",
    "\n",
    "    return metadata\n",
    "\n",
    "\n",
    "def get_metadata(scan_key, session_start_time):\n",
    "    metadata = get_default_nwbfile_metadata()\n",
    "\n",
    "    metadata[\"NWBFile\"].update(\n",
    "        session_start_time=session_start_time,\n",
    "        subject=get_default_subject(),\n",
    "        session_id=str(scan_key[\"session\"]),\n",
    "    )\n",
    "\n",
    "    get_ophys_metadata(scan_key, metadata)\n",
    "\n",
    "    return metadata\n",
    "\n",
    "def add_stimulus(scan_key, nwb):\n",
    "    timestamps = (nda.FrameTimes() & scan_key).fetch1('frame_times') # timestamps of stimulus images\n",
    "    movie = (nda.Stimulus & scan_key).fetch1('movie')\n",
    "    optical_series = OpticalSeries(\n",
    "        name=\"visual stimulus\",\n",
    "        distance=np.nan,  # unknown\n",
    "        field_of_view=[np.nan, np.nan],\n",
    "        orientation=\"0 is up\",\n",
    "        data=H5DataIO(movie.transpose(2, 0, 1), compression=True),\n",
    "        timestamps=H5DataIO(timestamps, compression=True),\n",
    "        unit=\"n.a.\",\n",
    "    )\n",
    "\n",
    "    nwb.add_stimulus(optical_series)\n",
    "\n",
    "def add_eye_tracking(scan_key, nwb):\n",
    "    pupil_min_r, pupil_maj_r, pupil_x, pupil_y, timestamps = (\n",
    "        nda.RawManualPupil() & scan_key\n",
    "    ).fetch1(\"pupil_min_r\", \"pupil_maj_r\", \"pupil_x\", \"pupil_y\", \"pupil_times\")\n",
    "\n",
    "    pupil_min_r = TimeSeries(\n",
    "        name=\"pupil_min_r\",\n",
    "        description=\"minor axis of pupil tracking ellipse\",\n",
    "        data=H5DataIO(pupil_min_r, compression=True),\n",
    "        timestamps=H5DataIO(timestamps, compression=True),\n",
    "        unit=\"unknown\",\n",
    "    )\n",
    "\n",
    "    pupil_maj_r = TimeSeries(\n",
    "        name=\"pupil_maj_r\",\n",
    "        description=\"jajor axis of pupil tracking ellipse\",\n",
    "        data=H5DataIO(pupil_maj_r, compression=True),\n",
    "        timestamps=pupil_min_r,\n",
    "        unit=\"unknown\",\n",
    "    )\n",
    "\n",
    "    pupil_tracking = PupilTracking([pupil_min_r, pupil_maj_r])\n",
    "    nwb.add_acquisition(pupil_tracking)\n",
    "\n",
    "    pupil_xy = SpatialSeries(\n",
    "        name = \"eye_position\",\n",
    "        description=\"x,y position of eye\",\n",
    "        data=H5DataIO(np.c_[pupil_x, pupil_y], compression=True),\n",
    "        timestamps=pupil_min_r,\n",
    "        unit=\"unknown\",\n",
    "        reference_frame=\"unknown\",\n",
    "    )\n",
    "\n",
    "    eye_position_tracking = EyeTracking(pupil_xy)\n",
    "\n",
    "    nwb.add_acquisition(eye_position_tracking)\n",
    "\n",
    "def add_treadmill(scan_key, nwb):\n",
    "    treadmill_velocity, treadmill_timestamps = (\n",
    "        nda.RawTreadmill & scan_key\n",
    "    ).fetch1(\"treadmill_velocity\", \"treadmill_timestamps\")\n",
    "\n",
    "    treadmill_velocity = TimeSeries(\n",
    "        name=\"treadmill_velocity\",\n",
    "        data=H5DataIO(treadmill_velocity, compression=True),\n",
    "        timestamps=H5DataIO(treadmill_timestamps, compression=True),\n",
    "        description=\"velocity of treadmill\",\n",
    "        unit=\"unknown\",\n",
    "    )\n",
    "\n",
    "    nwb.add_acquisition(treadmill_velocity)\n",
    "\n",
    "\n",
    "def add_trials(scan_key, nwb):\n",
    "\n",
    "    nwb.add_trial_column(\"condition_hash\", \"condition hash\")\n",
    "    nwb.add_trial_column(\"stimulus_type\", \"stimulus type\")\n",
    "\n",
    "\n",
    "    stimulus_types, start_times, stop_times, condition_hashes, trial_idxs = (\n",
    "        nda.Trial & scan_key\n",
    "    ).fetch(\"type\", \"start_frame_time\", \"end_frame_time\", \"condition_hash\", \"trial_idx\", order_by=\"trial_idx\")\n",
    "\n",
    "    for stimulus_type, start_time, stop_time, condition_hash, trial_idx in zip(\n",
    "        stimulus_types, start_times, stop_times, condition_hashes, trial_idxs\n",
    "    ):\n",
    "        nwb.add_trial(\n",
    "            id=trial_idx,\n",
    "            start_time=start_time,\n",
    "            stop_time=stop_time,\n",
    "            stimulus_type=stimulus_type,\n",
    "            condition_hash=condition_hash,\n",
    "        )\n",
    "\n",
    "def add_plane_segmentation(field_key, nwb):\n",
    "    ophys = get_module(nwb, \"ophys\")\n",
    "    image_segmentation = ophys.data_interfaces['ImageSegmentation']\n",
    "\n",
    "    imaging_plane = nwb.imaging_planes[f\"ImagingPlane{field_key['field']}\"]\n",
    "\n",
    "    ps = image_segmentation.create_plane_segmentation(\n",
    "        name=f\"PlaneSegmentation{field_key['field']}\",\n",
    "        description='output from segmenting my favorite imaging plane',\n",
    "        imaging_plane=imaging_plane,\n",
    "    )\n",
    "    ps.add_column(\"mask_type\", \"type of ROI\")\n",
    "\n",
    "    image_height, image_width = (nda.Field & field_key).fetch1(\"px_height\", \"px_width\")\n",
    "\n",
    "    mask_pixels, mask_weights, mask_ids, mask_types = (nda.Segmentation * nda.MaskClassification & field_key).fetch(\n",
    "        \"pixels\", \"weights\", \"mask_id\", \"mask_type\", order_by=\"mask_id\"\n",
    "    )\n",
    "\n",
    "    # Reshape masks\n",
    "    masks = func.reshape_masks(mask_pixels, mask_weights, image_height, image_width)\n",
    "    masks = masks.transpose((2,0,1))\n",
    "\n",
    "\n",
    "    for image_mask, mask_id, mask_type in zip(masks, mask_ids, mask_types):\n",
    "        ps.add_roi(\n",
    "            image_mask=image_mask,\n",
    "            id=mask_id,\n",
    "            mask_type=mask_type,\n",
    "        )\n",
    "\n",
    "    return ps\n",
    "\n",
    "\n",
    "def add_roi_response_series(field_key, nwb, plane_segmentation):\n",
    "\n",
    "    frame_times = (nda.FrameTimes & scan_key).fetch1('frame_times')\n",
    "\n",
    "    data = np.vstack((nda.Fluorescence() & field_key).fetch(\"trace\", order_by=\"mask_id\")).T\n",
    "\n",
    "    rt_region = plane_segmentation.create_roi_table_region(\n",
    "        region=list(range(data.shape[1])),\n",
    "        description=f\"all rois in field {field_key['field']}\"\n",
    "    )\n",
    "\n",
    "    roi_response_series = RoiResponseSeries(\n",
    "        name=f\"RioResponseSeries{field_key['field']}\",\n",
    "        description=f\"traces for field {field_key['field']}\",\n",
    "        data=H5DataIO(data, compression=True),\n",
    "        rois=rt_region,\n",
    "        timestamps=H5DataIO(frame_times, compression=True),\n",
    "        unit=\"n/a\",\n",
    "    )\n",
    "\n",
    "    fluorescence = Fluorescence()\n",
    "    fluorescence.add_roi_response_series(roi_response_series)\n",
    "\n",
    "    ophys = get_module(nwb, \"ophys\")\n",
    "    ophys.add(fluorescence)\n",
    "\n",
    "\n",
    "def add_summary_images(field_key, nwb):\n",
    "    ophys = get_module(nwb, \"ophys\")\n",
    "\n",
    "    correlation, average = (\n",
    "        nda.SummaryImages & field_key\n",
    "    ).fetch1(\"correlation\", \"average\")\n",
    "\n",
    "    segmentation_images = Images(f\"SegmentationImages{field_key['field']}\")\n",
    "\n",
    "    segmentation_images.add_image(GrayscaleImage(name=\"Correlation\", data=correlation))\n",
    "    segmentation_images.add_image(GrayscaleImage(name=\"Average\", data=average))\n",
    "\n",
    "    ophys.add(segmentation_images)\n",
    "\n",
    "\n",
    "def add_ophys(scan_key, nwb, metadata):\n",
    "    add_image_segmentation(nwbfile=nwb, metadata=metadata)\n",
    "\n",
    "    all_field_data = (nda.Field & scan_key).fetch(as_dict=True)\n",
    "\n",
    "    for field_ind, field_key in enumerate(all_field_data):\n",
    "        add_imaging_plane(nwbfile=nwb, metadata=metadata, imaging_plane_index=field_ind)\n",
    "        plane_segmentation = add_plane_segmentation(field_key, nwb)\n",
    "        add_roi_response_series(field_key, nwb, plane_segmentation)\n",
    "        add_summary_images(field_key, nwb)\n",
    "\n",
    "\n",
    "def run_conversion(nwbfile_path: str, session_start_time: datetime, scan_key: dict):\n",
    "    metadata = get_metadata(scan_key=scan_key, session_start_time=session_start_time)\n",
    "\n",
    "    with make_or_load_nwbfile(\n",
    "        nwbfile_path=nwbfile_path,\n",
    "        metadata=metadata,\n",
    "        overwrite=False,\n",
    "        verbose=True,\n",
    "    ) as nwbfile_out:\n",
    "        add_ophys(scan_key, nwbfile_out, metadata)\n",
    "        add_eye_tracking(scan_key, nwbfile_out)\n",
    "        add_treadmill(scan_key, nwbfile_out)\n",
    "        add_trials(scan_key, nwbfile_out)\n",
    "        #add_stimulus(scan_key, nwbfile_out)\n"
   ]
  },
  {
   "cell_type": "code",
   "execution_count": null,
   "outputs": [],
   "source": [],
   "metadata": {
    "collapsed": false,
    "pycharm": {
     "name": "#%%\n"
    }
   }
  },
  {
   "cell_type": "code",
   "execution_count": null,
   "outputs": [],
   "source": [
    "scan_key = {'session': 4, 'scan_idx': 10}\n",
    "session_start_time = datetime(2020, 1, 1, 12, 30, 0, tzinfo=tz.gettz(\"US/Pacific\"))\n",
    "nwbfile_path = \"test.nwb\"\n",
    "\n",
    "run_conversion(nwbfile_path=nwbfile_path, session_start_time=session_start_time, scan_key=scan_key)"
   ],
   "metadata": {
    "collapsed": false,
    "pycharm": {
     "name": "#%%\n"
    }
   }
  },
  {
   "cell_type": "code",
   "execution_count": null,
   "outputs": [],
   "source": [
    "from pynwb import NWBHDF5IO\n",
    "io = NWBHDF5IO(nwbfile_path, mode=\"r\")\n",
    "nwbfile = io.read()"
   ],
   "metadata": {
    "collapsed": false,
    "pycharm": {
     "name": "#%%\n"
    }
   }
  },
  {
   "cell_type": "code",
   "execution_count": null,
   "id": "1fb5b38b-738f-41bc-8010-7239dfa236b4",
   "metadata": {
    "pycharm": {
     "name": "#%%\n"
    }
   },
   "outputs": [],
   "source": []
  },
  {
   "cell_type": "code",
   "execution_count": null,
   "id": "ec75af37",
   "metadata": {
    "pycharm": {
     "name": "#%%\n"
    }
   },
   "outputs": [],
   "source": []
  },
  {
   "cell_type": "code",
   "execution_count": null,
   "id": "802d68b8",
   "metadata": {
    "pycharm": {
     "name": "#%%\n"
    }
   },
   "outputs": [],
   "source": [
    "nda.Scan()"
   ]
  },
  {
   "cell_type": "code",
   "execution_count": null,
   "id": "8eb17855-0e9f-41e3-84b1-6a4425d74e77",
   "metadata": {
    "pycharm": {
     "name": "#%%\n"
    }
   },
   "outputs": [],
   "source": [
    "nda.Trial()"
   ]
  },
  {
   "cell_type": "code",
   "execution_count": null,
   "id": "8b7a2a28-3954-4ee7-8d97-77260595aa81",
   "metadata": {
    "pycharm": {
     "name": "#%%\n"
    }
   },
   "outputs": [],
   "source": [
    "field_data = dict(field=1)\n",
    "\n",
    "field_key = {**scan_key, **dict(field=field_data[\"field\"])}\n",
    "\n",
    "nda.Fluorescence() & field_key"
   ]
  },
  {
   "cell_type": "code",
   "execution_count": null,
   "id": "5337b6f9-d049-4af8-942e-da94b08f850b",
   "metadata": {
    "pycharm": {
     "name": "#%%\n"
    }
   },
   "outputs": [],
   "source": [
    "func.reshape_masks??"
   ]
  },
  {
   "cell_type": "code",
   "execution_count": null,
   "id": "95c33f9c-294c-41ae-aa5c-7c28c48df395",
   "metadata": {
    "pycharm": {
     "name": "#%%\n"
    }
   },
   "outputs": [],
   "source": [
    "image_height, image_width = (nda.Field & field_key).fetch1(\n",
    "        \"px_height\", \"px_width\"\n",
    "    )"
   ]
  },
  {
   "cell_type": "code",
   "execution_count": null,
   "id": "dc5dee32-cbb5-458b-886a-2563167d6cc9",
   "metadata": {
    "pycharm": {
     "name": "#%%\n"
    }
   },
   "outputs": [],
   "source": [
    "image_height"
   ]
  },
  {
   "cell_type": "code",
   "execution_count": null,
   "id": "75716489-a05b-4545-8ab1-015942b1f947",
   "metadata": {
    "pycharm": {
     "name": "#%%\n"
    }
   },
   "outputs": [],
   "source": [
    "nda.MaskClassification()"
   ]
  },
  {
   "cell_type": "code",
   "execution_count": null,
   "id": "11fa1a3a-d212-4340-9bb8-22cc60adfd2c",
   "metadata": {
    "pycharm": {
     "name": "#%%\n"
    }
   },
   "outputs": [],
   "source": [
    "func.get_all_masks??"
   ]
  },
  {
   "cell_type": "code",
   "execution_count": null,
   "id": "4eab8ee7-e7cc-4754-b898-034b74073d45",
   "metadata": {
    "pycharm": {
     "name": "#%%\n"
    }
   },
   "outputs": [],
   "source": [
    "scan_key = {'session': 4, 'scan_idx': 7} \n",
    "\n",
    "(nda.Field & scan_key).fetch(as_dict=True)"
   ]
  },
  {
   "cell_type": "code",
   "execution_count": null,
   "id": "b686dc73-d466-4ca8-b5db-809ca30472d5",
   "metadata": {
    "pycharm": {
     "name": "#%%\n"
    }
   },
   "outputs": [],
   "source": [
    "np.c_[pupil_x, pupil_y]"
   ]
  },
  {
   "cell_type": "code",
   "execution_count": null,
   "id": "3d2911dc-4f97-4d2a-9f31-51a6f3118ac5",
   "metadata": {
    "pycharm": {
     "name": "#%%\n"
    }
   },
   "outputs": [],
   "source": [
    "pupil_min_r, pupil_maj_r, pupil_x, pupil_y = (\n",
    "    nda.RawManualPupil() & scan_key\n",
    ").fetch(\"pupil_min_r\", \"pupil_maj_r\", \"pupil_x\", \"pupil_y\")"
   ]
  },
  {
   "cell_type": "code",
   "execution_count": null,
   "id": "7162d48b-091b-4edc-9bc7-bdc606dc745f",
   "metadata": {
    "pycharm": {
     "name": "#%%\n"
    }
   },
   "outputs": [],
   "source": [
    "nda.RawManualPupil()"
   ]
  },
  {
   "cell_type": "code",
   "execution_count": null,
   "id": "d73baa1f-8b79-4c72-b9b7-11d201be30db",
   "metadata": {
    "pycharm": {
     "name": "#%%\n"
    }
   },
   "outputs": [],
   "source": [
    "len(pupil_maj_r[0])"
   ]
  },
  {
   "cell_type": "code",
   "execution_count": null,
   "id": "0d89008a-df6d-43c1-ae56-24f0d0970bc2",
   "metadata": {
    "pycharm": {
     "name": "#%%\n"
    }
   },
   "outputs": [],
   "source": [
    "movie_times = (nda.FrameTimes() & scan_key).fetch1('frame_times') # timestamps of stimulus images\n",
    "movie_times"
   ]
  },
  {
   "cell_type": "code",
   "execution_count": null,
   "id": "d9905455-7335-4652-94fa-15fdd355b8ea",
   "metadata": {
    "pycharm": {
     "name": "#%%\n"
    }
   },
   "outputs": [],
   "source": [
    "plt.imshow(movie[...,3400])"
   ]
  },
  {
   "cell_type": "code",
   "execution_count": null,
   "id": "8c80deef-43fe-4f19-9c9d-5a35ddb47a7b",
   "metadata": {
    "pycharm": {
     "name": "#%%\n"
    }
   },
   "outputs": [],
   "source": []
  }
 ],
 "metadata": {
  "kernelspec": {
   "display_name": "Python 3 (ipykernel)",
   "language": "python",
   "name": "python3"
  },
  "language_info": {
   "codemirror_mode": {
    "name": "ipython",
    "version": 3
   },
   "file_extension": ".py",
   "mimetype": "text/x-python",
   "name": "python",
   "nbconvert_exporter": "python",
   "pygments_lexer": "ipython3",
   "version": "3.9.13"
  }
 },
 "nbformat": 4,
 "nbformat_minor": 5
}